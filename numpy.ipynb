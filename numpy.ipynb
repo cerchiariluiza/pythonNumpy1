{
 "cells": [
  {
   "cell_type": "code",
   "execution_count": null,
   "metadata": {},
   "outputs": [],
   "source": [
    "import numpy as np\n",
    "gabriel_gostos=['vídeo game','cinema','tecnologia','livros']\n",
    "marcio_gostos=['futebol','natação','golfe','hipismo']\n",
    "juliana_gostos=['gastronomia','viagem','cinema','teatro']\n",
    "daniela_gostos=['caminhada','livros','séries','desenho digital']\n",
    "mostrar_gostos=np.array([gabriel_gostos,marcio_gostos,juliana_gostos,daniela_gostos])\n",
    "mostrar_gostos\n"
   ]
  },
  {
   "cell_type": "code",
   "execution_count": null,
   "metadata": {},
   "outputs": [],
   "source": [
    "mostrar_gostos[0]"
   ]
  },
  {
   "cell_type": "code",
   "execution_count": null,
   "metadata": {},
   "outputs": [],
   "source": [
    "mostrar_gostos.item(5)"
   ]
  },
  {
   "cell_type": "code",
   "execution_count": null,
   "metadata": {},
   "outputs": [],
   "source": [
    "mostrar_gostos[1][0]"
   ]
  },
  {
   "cell_type": "code",
   "execution_count": null,
   "metadata": {},
   "outputs": [],
   "source": [
    "marketing_janeiro=['5 cartazes','3 banners','3 malas diretas']\n",
    "marketing_fevereiro=['2 promoções','3 spots','4 banners']\n",
    "marketing_marco=['2 jingles','3 promoções','3 banners']\n",
    "np.array([marketing_janeiro,marketing_fevereiro,marketing_marco])\n"
   ]
  },
  {
   "cell_type": "code",
   "execution_count": null,
   "metadata": {},
   "outputs": [],
   "source": [
    "criar_range=np.arange(0,8)\n",
    "print(criar_range)\n"
   ]
  },
  {
   "cell_type": "code",
   "execution_count": null,
   "metadata": {},
   "outputs": [],
   "source": [
    "gabriel_gostos = ['vídeo game', 'cinema','tecnologia','livros'] \n",
    "marcio_gostos = ['futebol', 'natação','golfe','hipismo'] \n",
    "juliana_gostos = ['gastronomia', 'viagem','cinema','teatro'] \n",
    "daniela_gostos = ['caminhada', 'livros','séries','desenho digital'] \n",
    "mostrar_gostos = np.array([gabriel_gostos, marcio_gostos, juliana_gostos, daniela_gostos])\n",
    "mostrar_gostos\n"
   ]
  },
  {
   "cell_type": "code",
   "execution_count": null,
   "metadata": {},
   "outputs": [],
   "source": [
    "np.delete(mostrar_gostos,2,0)"
   ]
  },
  {
   "cell_type": "code",
   "execution_count": null,
   "metadata": {},
   "outputs": [],
   "source": [
    "np.delete(mostrar_gostos,np.s_[::2],0)"
   ]
  },
  {
   "cell_type": "code",
   "execution_count": null,
   "metadata": {},
   "outputs": [],
   "source": [
    "np.insert(mostrar_gostos,1,'vazio',axis=0)"
   ]
  }
 ],
 "metadata": {
  "kernelspec": {
   "display_name": "Python 3",
   "language": "python",
   "name": "python3"
  },
  "language_info": {
   "codemirror_mode": {
    "name": "ipython",
    "version": 3
   },
   "file_extension": ".py",
   "mimetype": "text/x-python",
   "name": "python",
   "nbconvert_exporter": "python",
   "pygments_lexer": "ipython3",
   "version": "3.7.1"
  }
 },
 "nbformat": 4,
 "nbformat_minor": 2
}
